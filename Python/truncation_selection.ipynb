{
 "cells": [
  {
   "cell_type": "markdown",
   "metadata": {},
   "source": [
    "Truncation selection\n",
    "\n",
    "Truncation selection is known to be the most efficient form of directional selection (Efficiency xx),However, it usually maximized genetic gain with no or an implicit limitations of rates of inbreeding.  \n",
    "\n",
    "Thus, the total genetic merit of a selected group is:\n",
    "\n",
    "$f(x) = x'BV$\n",
    "\n",
    "Animals with highest BV have the highest chance to be selected as parents of the next generation"
   ]
  },
  {
   "cell_type": "code",
   "execution_count": 1,
   "metadata": {},
   "outputs": [],
   "source": [
    "import numpy as np\n",
    "import pandas as pd\n",
    "import urllib.request\n",
    "\n",
    "import robustocs as rocs\n",
    "from robustocs import utils\n",
    "from robustocs import pedigree\n"
   ]
  },
  {
   "cell_type": "code",
   "execution_count": 14,
   "metadata": {},
   "outputs": [
    {
     "name": "stdout",
     "output_type": "stream",
     "text": [
      "Downloaded A50.txt\n",
      "Downloaded EBV50.txt\n",
      "Downloaded S50.txt\n",
      "/Users/s2745345/Documents/GitHub/jortiz_phd_review/Python\n"
     ]
    }
   ],
   "source": [
    "base_url = \"https://raw.githubusercontent.com/Foggalong/RobustOCS/main/examples/50/\"\n",
    "\n",
    "files = [\"A50.txt\", \"EBV50.txt\", \"S50.txt\"]\n",
    "\n",
    "for file in files:\n",
    "    urllib.request.urlretrieve(base_url + file, file)\n",
    "    print(f\"Downloaded {file}\")\n",
    "\n",
    "import os\n",
    "cwd = os.getcwd()\n",
    "print(cwd)"
   ]
  },
  {
   "cell_type": "code",
   "execution_count": 23,
   "metadata": {},
   "outputs": [],
   "source": [
    "# load in the problem variables\n",
    "sigma, mubar, omega, n, _, _, _ = rocs.load_problem(\n",
    "    sigma_filename=\"../data/A50.txt\",\n",
    "    mu_filename=\"../data/EBV50.txt\",\n",
    "    omega_filename=\"../data/S50.txt\",\n",
    "    issparse=True\n",
    ")\n",
    "\n",
    "kin = sigma/2\n",
    "\n",
    "\n"
   ]
  },
  {
   "cell_type": "code",
   "execution_count": null,
   "metadata": {},
   "outputs": [],
   "source": [
    "# Parameters\n",
    "\n",
    "sires = range(0, n, 2)\n",
    "dams = range(1, n, 2)\n",
    "\n",
    "# Max contributions definition\n",
    "\n",
    "# upper\n",
    "upper = np.zeros(n)\n",
    "upper[::2] = 0.5  \n",
    "upper[1::2] = 0.02 \n",
    "\n",
    "# lower\n",
    "lower = np.zeros(n)\n",
    "lower[::2] = 0.0  \n",
    "lower[1::2] = 0.02  \n",
    "\n",
    "\n",
    "lam = 0\n",
    "kap = 0"
   ]
  },
  {
   "cell_type": "code",
   "execution_count": 19,
   "metadata": {},
   "outputs": [
    {
     "name": "stdout",
     "output_type": "stream",
     "text": [
      "Running HiGHS 1.8.1 (git hash: 4a7f24a): Copyright (c) 2024 HiGHS under MIT licence terms\n",
      "Hessian has dimension 50 but no nonzeros, so is ignored\n"
     ]
    }
   ],
   "source": [
    "# \n",
    "w, z, obj = rocs.highs_robust_genetics(sigma, mubar, omega, sires, dams, lam=lam, kappa=kap, dimension=n, upper_bound=upper, lower_bound=lower)\n"
   ]
  },
  {
   "cell_type": "code",
   "execution_count": 35,
   "metadata": {},
   "outputs": [
    {
     "name": "stdout",
     "output_type": "stream",
     "text": [
      "Expected genetic gain: 2.043087959504886\n",
      "Expected group coancestry: 0.3153644973754871\n",
      "Expected group uncertainty: 0.25044569048135296\n"
     ]
    }
   ],
   "source": [
    "# Statistics\n",
    "\n",
    "# Expected genetic gain\n",
    "genetic_gain_sel = utils.expected_genetic_merit(w, mubar)\n",
    "\n",
    "# Expected group coancestry\n",
    "group_coancestry_sel = utils.group_coancestry(w,sigma)\n",
    "\n",
    "# Expected grouo uncertainty\n",
    "group_uncertainty = z\n",
    "\n",
    "\n",
    "print(\"Expected genetic gain:\", genetic_gain_sel)\n",
    "print(\"Expected group coancestry:\", group_coancestry_sel)\n",
    "print(\"Expected group uncertainty:\", group_uncertainty)\n"
   ]
  },
  {
   "cell_type": "code",
   "execution_count": null,
   "metadata": {},
   "outputs": [
    {
     "name": "stdout",
     "output_type": "stream",
     "text": [
      "Group coancestry selected: 0 3\n"
     ]
    }
   ],
   "source": [
    "# Expected group coancestry\n",
    "\n",
    "# Selected group coancestry\n",
    "group_coancestry_sel = utils.group_coancestry(w, kin)\n",
    "print(\"Group coancestry selected:\", round(group_coancestry_sel), 3)\n"
   ]
  },
  {
   "cell_type": "code",
   "execution_count": 28,
   "metadata": {},
   "outputs": [
    {
     "name": "stderr",
     "output_type": "stream",
     "text": [
      "/var/folders/yh/0bk27b457hb862b_2wsrctcr0000gr/T/ipykernel_70502/1779313198.py:4: FutureWarning: The 'delim_whitespace' keyword in pd.read_csv is deprecated and will be removed in a future version. Use ``sep='\\s+'`` instead\n",
      "  df = pd.read_csv(file_path, delim_whitespace=True, header=None)\n"
     ]
    },
    {
     "data": {
      "text/html": [
       "<div>\n",
       "<style scoped>\n",
       "    .dataframe tbody tr th:only-of-type {\n",
       "        vertical-align: middle;\n",
       "    }\n",
       "\n",
       "    .dataframe tbody tr th {\n",
       "        vertical-align: top;\n",
       "    }\n",
       "\n",
       "    .dataframe thead th {\n",
       "        text-align: right;\n",
       "    }\n",
       "</style>\n",
       "<table border=\"1\" class=\"dataframe\">\n",
       "  <thead>\n",
       "    <tr style=\"text-align: right;\">\n",
       "      <th></th>\n",
       "      <th>0</th>\n",
       "      <th>1</th>\n",
       "    </tr>\n",
       "  </thead>\n",
       "  <tbody>\n",
       "    <tr>\n",
       "      <th>0</th>\n",
       "      <td>11951</td>\n",
       "      <td>M</td>\n",
       "    </tr>\n",
       "    <tr>\n",
       "      <th>1</th>\n",
       "      <td>11952</td>\n",
       "      <td>F</td>\n",
       "    </tr>\n",
       "    <tr>\n",
       "      <th>2</th>\n",
       "      <td>11953</td>\n",
       "      <td>M</td>\n",
       "    </tr>\n",
       "    <tr>\n",
       "      <th>3</th>\n",
       "      <td>11954</td>\n",
       "      <td>F</td>\n",
       "    </tr>\n",
       "    <tr>\n",
       "      <th>4</th>\n",
       "      <td>11955</td>\n",
       "      <td>M</td>\n",
       "    </tr>\n",
       "  </tbody>\n",
       "</table>\n",
       "</div>"
      ],
      "text/plain": [
       "       0  1\n",
       "0  11951  M\n",
       "1  11952  F\n",
       "2  11953  M\n",
       "3  11954  F\n",
       "4  11955  M"
      ]
     },
     "execution_count": 28,
     "metadata": {},
     "output_type": "execute_result"
    }
   ],
   "source": [
    "\n",
    "file_path = \"../data/SEX50.txt\"\n",
    "\n",
    "# Load the file while treating it as a text-based dataset\n",
    "df = pd.read_csv(file_path, delim_whitespace=True, header=None)\n",
    "\n",
    "df.head()\n"
   ]
  },
  {
   "cell_type": "code",
   "execution_count": 34,
   "metadata": {},
   "outputs": [
    {
     "name": "stdout",
     "output_type": "stream",
     "text": [
      "       0  1     w\n",
      "0  11951  M  0.00\n",
      "1  11952  F  0.02\n",
      "2  11953  M -0.00\n",
      "3  11954  F  0.02\n",
      "4  11955  M  0.00\n"
     ]
    }
   ],
   "source": [
    "df['w'] = w\n",
    "print(df.head())"
   ]
  }
 ],
 "metadata": {
  "kernelspec": {
   "display_name": "rocs_env",
   "language": "python",
   "name": "python3"
  },
  "language_info": {
   "codemirror_mode": {
    "name": "ipython",
    "version": 3
   },
   "file_extension": ".py",
   "mimetype": "text/x-python",
   "name": "python",
   "nbconvert_exporter": "python",
   "pygments_lexer": "ipython3",
   "version": "3.10.13"
  }
 },
 "nbformat": 4,
 "nbformat_minor": 2
}
