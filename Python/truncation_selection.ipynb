{
 "cells": [
  {
   "cell_type": "code",
   "execution_count": null,
   "metadata": {},
   "outputs": [],
   "source": []
  },
  {
   "cell_type": "markdown",
   "metadata": {},
   "source": [
    "Truncation selection\n",
    "\n",
    "Truncation selection is known to be the most efficient form of directional selection (Efficiency xx),However, it usually maximized genetic gain with no or an implicit limitations of rates of inbreeding.  \n",
    "\n",
    "Thus, the total genetic merit of a selected group is:\n",
    "\n",
    "$f(x) = x'BV$\n",
    "\n",
    "Animals with highest BV have the highest chance to be selected as parents of the next generation"
   ]
  },
  {
   "cell_type": "code",
   "execution_count": 2,
   "metadata": {},
   "outputs": [],
   "source": [
    "import numpy as np\n",
    "import pandas as pd\n",
    "import urllib.request\n",
    "\n",
    "import robustocs as rocs\n",
    "from robustocs import utils\n",
    "from robustocs import pedigree\n"
   ]
  },
  {
   "cell_type": "code",
   "execution_count": 16,
   "metadata": {},
   "outputs": [],
   "source": [
    "#base_url = \"https://raw.githubusercontent.com/Foggalong/RobustOCS/main/examples/50/\"\n",
    "\n",
    "#files = [\"A50.txt\", \"EBV50.txt\", \"S50.txt\"]\n",
    "\n",
    "#for file in files:\n",
    "#    urllib.request.urlretrieve(base_url + file, file)\n",
    "#    print(f\"Downloaded {file}\")"
   ]
  },
  {
   "cell_type": "code",
   "execution_count": null,
   "metadata": {},
   "outputs": [],
   "source": [
    "# load in the problem variables\n",
    "sigma, mubar, omega, n, _, _, _ = rocs.load_problem(\n",
    "    sigma_filename=\"data/A50.txt\",\n",
    "    mu_filename=\"data/EBV50.txt\",\n",
    "    omega_filename=\"data/S50.txt\",\n",
    "    issparse=True\n",
    ")\n",
    "\n",
    "\n",
    "kin = sigma/2\n",
    "\n",
    "sires = range(0, n, 2)\n",
    "dams = range(1, n, 2)\n",
    "lam = 0\n",
    "kap = 0\n"
   ]
  },
  {
   "cell_type": "code",
   "execution_count": 6,
   "metadata": {},
   "outputs": [],
   "source": [
    "# Max contributions definition\n",
    "\n",
    "# upper\n",
    "upper = np.zeros(n)\n",
    "upper[::2] = 0.5  \n",
    "upper[1::2] = 0.02 \n",
    "\n",
    "# lower\n",
    "lower = np.zeros(n)\n",
    "lower[::2] = 0.0  \n",
    "lower[1::2] = 0.02  "
   ]
  },
  {
   "cell_type": "code",
   "execution_count": 7,
   "metadata": {},
   "outputs": [
    {
     "name": "stdout",
     "output_type": "stream",
     "text": [
      "Running HiGHS 1.8.1 (git hash: 4a7f24a): Copyright (c) 2024 HiGHS under MIT licence terms\n",
      "Hessian has dimension 50 but no nonzeros, so is ignored\n"
     ]
    }
   ],
   "source": [
    "# \n",
    "w, z, obj = rocs.highs_robust_genetics(sigma, mubar, omega, sires, dams, lam=lam, kappa=kap, dimension=n, upper_bound=upper, lower_bound=lower)\n"
   ]
  },
  {
   "cell_type": "code",
   "execution_count": 12,
   "metadata": {},
   "outputs": [
    {
     "name": "stdout",
     "output_type": "stream",
     "text": [
      "Current genetic gain: 1.849\n",
      "Selected genetic gain: 2.043\n",
      "Delta G: 0 3\n"
     ]
    }
   ],
   "source": [
    "# Expected genetic gain\n",
    "\n",
    "# Current genetic gain\n",
    "\n",
    "w_1 = np.ones(n) / n\n",
    "genetic_gain_current = utils.expected_genetic_merit(w_1, mubar)\n",
    "\n",
    "# Selected genetic gain\n",
    "#print(w @ mubar) \n",
    "genetic_gain_sel = utils.expected_genetic_merit(w, mubar)\n",
    "\n",
    "# Delta G\n",
    "deltaG = genetic_gain_sel - genetic_gain_current\n",
    "\n",
    "print(\"Current genetic gain:\", round(genetic_gain_current, 3))\n",
    "print(\"Selected genetic gain:\", round(genetic_gain_sel, 3))\n",
    "print(\"Delta G:\", round(deltaG), 3)\n"
   ]
  },
  {
   "cell_type": "code",
   "execution_count": 15,
   "metadata": {},
   "outputs": [
    {
     "name": "stdout",
     "output_type": "stream",
     "text": [
      "Group coancestry selected: 0 3\n"
     ]
    }
   ],
   "source": [
    "# Expected group coancestry\n",
    "\n",
    "# Current group coancestry\n",
    "\n",
    "w_1 = np.ones(n) / n\n",
    "group_coancestry_current = utils.group_coancestry(w_1, kin)\n",
    "\n",
    "# Selected group coancestry\n",
    "group_coancestry_sel = utils.group_coancestry(w, kin)\n",
    "\n",
    "print(\"Group coancestry selected:\", round(group_coancestry_sel), 3)\n",
    "\n",
    "\n"
   ]
  }
 ],
 "metadata": {
  "kernelspec": {
   "display_name": "rocs_env",
   "language": "python",
   "name": "python3"
  },
  "language_info": {
   "codemirror_mode": {
    "name": "ipython",
    "version": 3
   },
   "file_extension": ".py",
   "mimetype": "text/x-python",
   "name": "python",
   "nbconvert_exporter": "python",
   "pygments_lexer": "ipython3",
   "version": "3.10.13"
  }
 },
 "nbformat": 4,
 "nbformat_minor": 2
}
