{
 "cells": [
  {
   "cell_type": "code",
   "execution_count": 16,
   "metadata": {},
   "outputs": [],
   "source": [
    "# Importing libraries\n",
    "\n",
    "import numpy as np\n",
    "import pandas as pd\n",
    "import urllib.request\n",
    "\n",
    "import matplotlib.pyplot as plt # plotting library\n",
    "import seaborn as sns\n",
    "\n",
    "import robustocs as rocs\n",
    "from robustocs import utils\n",
    "from robustocs import pedigree\n"
   ]
  },
  {
   "cell_type": "code",
   "execution_count": 3,
   "metadata": {},
   "outputs": [
    {
     "name": "stderr",
     "output_type": "stream",
     "text": [
      "/var/folders/yh/0bk27b457hb862b_2wsrctcr0000gr/T/ipykernel_42836/3244010030.py:14: FutureWarning: The 'delim_whitespace' keyword in pd.read_csv is deprecated and will be removed in a future version. Use ``sep='\\s+'`` instead\n",
      "  df = pd.read_csv(file_path, delim_whitespace=True, header=None)\n"
     ]
    }
   ],
   "source": [
    "# Importing data\n",
    "\n",
    "# load in the problem variables\n",
    "sigma, mubar, omega, n, _, _, _ = rocs.load_problem(\n",
    "    sigma_filename=\"../data/A50.txt\",\n",
    "    mu_filename=\"../data/EBV50.txt\",\n",
    "    omega_filename=\"../data/S50.txt\",\n",
    "    issparse=True\n",
    ")\n",
    "\n",
    "file_path = \"../data/SEX50.txt\"\n",
    "\n",
    "# Load the file while treating it as a text-based dataset\n",
    "df = pd.read_csv(file_path, delim_whitespace=True, header=None)\n",
    "\n",
    "kin = sigma/2"
   ]
  },
  {
   "cell_type": "markdown",
   "metadata": {},
   "source": [
    "There are different selection methods, "
   ]
  },
  {
   "cell_type": "markdown",
   "metadata": {},
   "source": [
    "# Truncation selection\n",
    "\n",
    "Truncation selection is known to be the most efficient form of directional selection (Kimura, xxx). With this metodology the best individuals from a population are selected for reproduction. However, in this was usually maximized genetic gain with no or an implicit limitations of rates of inbreeding.  \n",
    "\n",
    "For truncation selection, individuals are ranked based on the EBV, then only the best are choosen as parent for the next generation. \n",
    "\n",
    "![Example Image](../images/truncation.png)\n"
   ]
  },
  {
   "cell_type": "markdown",
   "metadata": {},
   "source": [
    "## Description\n",
    "\n",
    "In the truncation scenario, lambda (the penalty on group coancestry) and kappa (the parameter controlling group uncertainty) were both set to 0. Only the contributions for males were optimized, while the contributions for females remained fixed at 0.02."
   ]
  },
  {
   "cell_type": "code",
   "execution_count": 4,
   "metadata": {},
   "outputs": [],
   "source": [
    "# Parameters\n",
    "\n",
    "sires = range(0, n, 2)\n",
    "dams = range(1, n, 2)\n",
    "\n",
    "# Max contributions definition\n",
    "\n",
    "# upper\n",
    "upper = np.zeros(n)\n",
    "upper[::2] = 0.5  \n",
    "upper[1::2] = 0.02 \n",
    "\n",
    "# lower\n",
    "lower = np.zeros(n)\n",
    "lower[::2] = 0.0  \n",
    "lower[1::2] = 0.02  \n",
    "\n",
    "\n",
    "lam = 0\n",
    "kap = 0"
   ]
  },
  {
   "cell_type": "code",
   "execution_count": 5,
   "metadata": {},
   "outputs": [
    {
     "name": "stdout",
     "output_type": "stream",
     "text": [
      "Running HiGHS 1.8.1 (git hash: 4a7f24a): Copyright (c) 2024 HiGHS under MIT licence terms\n",
      "Hessian has dimension 50 but no nonzeros, so is ignored\n"
     ]
    }
   ],
   "source": [
    "# Model\n",
    "\n",
    "w_truncation, z_truncation, obj_truncation = rocs.highs_robust_genetics(sigma, mubar, omega, sires, dams, lam=lam, kappa=kap, dimension=n, upper_bound=upper, lower_bound=lower)"
   ]
  },
  {
   "cell_type": "code",
   "execution_count": 7,
   "metadata": {},
   "outputs": [
    {
     "name": "stdout",
     "output_type": "stream",
     "text": [
      "Expected genetic gain: 2.043087959504886\n",
      "Expected group coancestry: 0.3153644973754871\n",
      "Expected group uncertainty: 0.25044569048135296\n"
     ]
    }
   ],
   "source": [
    "# Statistics truncation\n",
    "\n",
    "# Expected genetic gain\n",
    "genetic_gain_sel_truncation = utils.expected_genetic_merit(w_truncation, mubar)\n",
    "\n",
    "# Expected group coancestry\n",
    "group_coancestry_sel_truncation = utils.group_coancestry(w_truncation,sigma)\n",
    "\n",
    "# Expected grouo uncertainty\n",
    "group_uncertainty_truncation = z_truncation\n",
    "\n",
    "\n",
    "print(\"Expected genetic gain:\", genetic_gain_sel_truncation)\n",
    "print(\"Expected group coancestry:\", group_coancestry_sel_truncation)\n",
    "print(\"Expected group uncertainty:\", group_uncertainty_truncation)"
   ]
  },
  {
   "cell_type": "markdown",
   "metadata": {},
   "source": [
    "# Conservation\n",
    "A strict conservation scenario occurs when a high penalty is applied to group coancestry (lambda). In this exercise, we empirically determined the lambda value by increasing it until genetic gain reached a minimum and stabilized (lambda = 1001).  and kappa was set to 0.\n",
    "\n"
   ]
  },
  {
   "cell_type": "code",
   "execution_count": 8,
   "metadata": {},
   "outputs": [],
   "source": [
    "# Parameters\n",
    "\n",
    "sires = range(0, n, 2)\n",
    "dams = range(1, n, 2)\n",
    "\n",
    "# Max contributions definition\n",
    "\n",
    "# upper\n",
    "upper = np.zeros(n)\n",
    "upper[::2] = 0.5  \n",
    "upper[1::2] = 0.02 \n",
    "\n",
    "# lower\n",
    "lower = np.zeros(n)\n",
    "lower[::2] = 0.0  \n",
    "lower[1::2] = 0.02  \n",
    "\n",
    "\n",
    "lam = 1001\n",
    "kap = 0"
   ]
  },
  {
   "cell_type": "code",
   "execution_count": 9,
   "metadata": {},
   "outputs": [
    {
     "name": "stdout",
     "output_type": "stream",
     "text": [
      "Running HiGHS 1.8.1 (git hash: 4a7f24a): Copyright (c) 2024 HiGHS under MIT licence terms\n",
      "WARNING: Ignored 1225 entries of Hessian in opposite triangle\n"
     ]
    }
   ],
   "source": [
    "# Model\n",
    "\n",
    "w_conservation, z_conservation, obj_conservation = rocs.highs_robust_genetics(sigma, mubar, omega, sires, dams, lam=lam, kappa=kap, dimension=n, upper_bound=upper, lower_bound=lower)"
   ]
  },
  {
   "cell_type": "code",
   "execution_count": 10,
   "metadata": {},
   "outputs": [
    {
     "name": "stdout",
     "output_type": "stream",
     "text": [
      "Expected genetic gain: 1.8379354183142913\n",
      "Expected group coancestry: 0.08680096427530473\n",
      "Expected group uncertainty: 0.09425649413337275\n"
     ]
    }
   ],
   "source": [
    "# Statistics conservation\n",
    "\n",
    "# Expected genetic gain\n",
    "genetic_gain_sel_conservation = utils.expected_genetic_merit(w_conservation, mubar)\n",
    "\n",
    "# Expected group coancestry\n",
    "group_coancestry_sel_conservation = utils.group_coancestry(w_conservation,sigma)\n",
    "\n",
    "# Expected grouo uncertainty\n",
    "group_uncertainty_conservation = z_conservation\n",
    "\n",
    "\n",
    "print(\"Expected genetic gain:\", genetic_gain_sel_conservation)\n",
    "print(\"Expected group coancestry:\", group_coancestry_sel_conservation)\n",
    "print(\"Expected group uncertainty:\", group_uncertainty_conservation)"
   ]
  },
  {
   "cell_type": "markdown",
   "metadata": {},
   "source": [
    "# Uncertainty\n",
    "\n",
    "For this scenario, the value of kappa was adjusted until genetic gain reached a minimum and remained constant, while lambda was set to 0. "
   ]
  },
  {
   "cell_type": "code",
   "execution_count": 11,
   "metadata": {},
   "outputs": [],
   "source": [
    "# Parameters\n",
    "\n",
    "sires = range(0, n, 2)\n",
    "dams = range(1, n, 2)\n",
    "\n",
    "# Max contributions definition\n",
    "\n",
    "# upper\n",
    "upper = np.zeros(n)\n",
    "upper[::2] = 0.5  \n",
    "upper[1::2] = 0.02 \n",
    "\n",
    "# lower\n",
    "lower = np.zeros(n)\n",
    "lower[::2] = 0.0  \n",
    "lower[1::2] = 0.02  \n",
    "\n",
    "\n",
    "lam = 0\n",
    "kap = 100"
   ]
  },
  {
   "cell_type": "code",
   "execution_count": 12,
   "metadata": {},
   "outputs": [
    {
     "name": "stdout",
     "output_type": "stream",
     "text": [
      "Running HiGHS 1.8.1 (git hash: 4a7f24a): Copyright (c) 2024 HiGHS under MIT licence terms\n",
      "Hessian has dimension 50 but no nonzeros, so is ignored\n"
     ]
    }
   ],
   "source": [
    "# Model\n",
    "\n",
    "w_uncertainty, z_uncertainty, obj_uncertainty = rocs.highs_robust_genetics(sigma, mubar, omega, sires, dams, lam=lam, kappa=kap, dimension=n, upper_bound=upper, lower_bound=lower)"
   ]
  },
  {
   "cell_type": "code",
   "execution_count": 13,
   "metadata": {},
   "outputs": [
    {
     "name": "stdout",
     "output_type": "stream",
     "text": [
      "Expected genetic gain: 1.8635800512880005\n",
      "Expected group coancestry: 0.08877838890695486\n",
      "Expected group uncertainty: 0.09214842458824989\n"
     ]
    }
   ],
   "source": [
    "# Statistics uncertainty\n",
    "\n",
    "# Expected genetic gain\n",
    "genetic_gain_sel_uncertainty = utils.expected_genetic_merit(w_uncertainty, mubar)\n",
    "\n",
    "# Expected group coancestry\n",
    "group_coancestry_sel_uncertainty = utils.group_coancestry(w_uncertainty,sigma)\n",
    "\n",
    "# Expected grouo uncertainty\n",
    "group_uncertainty_uncertainty = z_uncertainty\n",
    "\n",
    "\n",
    "print(\"Expected genetic gain:\", genetic_gain_sel_uncertainty)\n",
    "print(\"Expected group coancestry:\", group_coancestry_sel_uncertainty)\n",
    "print(\"Expected group uncertainty:\", group_uncertainty_uncertainty)"
   ]
  },
  {
   "cell_type": "code",
   "execution_count": 29,
   "metadata": {},
   "outputs": [
    {
     "name": "stdout",
     "output_type": "stream",
     "text": [
      "|                           |   Truncation |   Conservation |   Uncertainty |\n",
      "|:--------------------------|-------------:|---------------:|--------------:|\n",
      "| Expected genetic gain     |        2.043 |          1.838 |         1.864 |\n",
      "| Expected group coancestry |        0.315 |          0.087 |         0.098 |\n",
      "| group uncertainty         |        0.25  |          0.094 |         0.092 |\n"
     ]
    }
   ],
   "source": [
    "\n",
    "# Sample DataFrame\n",
    "results = pd.DataFrame({\n",
    "    \" \": [\"Expected genetic gain\", \"Expected group coancestry\", \"group uncertainty\"],\n",
    "    \"Truncation\": [2.043, 0.315, 0.250],\n",
    "    \"Conservation\": [1.838, 0.087, 0.094],\n",
    "    \"Uncertainty\": [1.864, 0.098, 0.092], \n",
    "})\n",
    "\n",
    "# Convert DataFrame to Markdown Table\n",
    "print(results.to_markdown(index=False))  # Requires 'tabulate' package"
   ]
  },
  {
   "cell_type": "markdown",
   "metadata": {},
   "source": [
    "As expected, the results indicate that in the absence of penalization on group coancestry and group uncertainty, the expected genetic gain, expected group coancestry, and group uncertainty are at their highest. Additionally, expected genetic gain and expected coancestry are slightly higher in the uncertainty scenario compared to the conservation scenario."
   ]
  },
  {
   "cell_type": "code",
   "execution_count": 25,
   "metadata": {},
   "outputs": [
    {
     "name": "stdout",
     "output_type": "stream",
     "text": [
      "     idd sex  w_truncation  w_conservation  w_uncertainty       ebv\n",
      "0  11951   M          0.00        0.018201       0.017095  1.780709\n",
      "1  11952   F          0.02        0.020000       0.020000  2.057584\n",
      "2  11953   M         -0.00        0.012828       0.026790  2.228707\n",
      "3  11954   F          0.02        0.020000       0.020000  1.732222\n",
      "4  11955   M          0.00        0.018671       0.015184  1.494452\n"
     ]
    }
   ],
   "source": [
    "df['w_truncation'] = w_truncation\n",
    "df['w_conservation'] = w_conservation\n",
    "df['w_uncertainty'] = w_uncertainty\n",
    "df['ebv'] = mubar\n",
    "\n",
    "# Rename all columns\n",
    "df.columns = [\"idd\", \"sex\", \"w_truncation\", \"w_conservation\", \"w_uncertainty\", \"ebv\"]\n",
    "\n",
    "print(df.head())"
   ]
  },
  {
   "cell_type": "code",
   "execution_count": 27,
   "metadata": {},
   "outputs": [
    {
     "data": {
      "image/png": "[encoded data removed]",
      "text/plain": [
       "<Figure size 1000x600 with 1 Axes>"
      ]
     },
     "metadata": {},
     "output_type": "display_data"
    }
   ],
   "source": [
    "\n",
    "plt.figure(figsize=(10, 6))\n",
    "\n",
    "df_male = df[df[\"sex\"] == \"M\"]\n",
    "\n",
    "plt.scatter(df_male[\"ebv\"], df_male[\"w_truncation\"], label=\"w_truncation\", marker=\"o\")\n",
    "plt.scatter(df_male[\"ebv\"], df_male[\"w_conservation\"], label=\"w_conservation\", marker=\"s\")\n",
    "plt.scatter(df_male[\"ebv\"], df_male[\"w_uncertainty\"], label=\"w_uncertainty\", marker=\"^\")\n",
    "\n",
    "plt.xlabel(\"ebv\")\n",
    "plt.ylabel(\"contributions\")\n",
    "plt.legend()\n",
    "plt.grid(True)\n",
    "plt.show()"
   ]
  },
  {
   "cell_type": "markdown",
   "metadata": {},
   "source": [
    "The animal with the highest EBV was selected as parents for the next generation. The contributions for the 25 males in scenario conservation and uncertainty are >0.01 and all males were selected as parents for future generation. "
   ]
  }
 ],
 "metadata": {
  "kernelspec": {
   "display_name": "rocs_env",
   "language": "python",
   "name": "python3"
  },
  "language_info": {
   "codemirror_mode": {
    "name": "ipython",
    "version": 3
   },
   "file_extension": ".py",
   "mimetype": "text/x-python",
   "name": "python",
   "nbconvert_exporter": "python",
   "pygments_lexer": "ipython3",
   "version": "3.10.13"
  }
 },
 "nbformat": 4,
 "nbformat_minor": 2
}
