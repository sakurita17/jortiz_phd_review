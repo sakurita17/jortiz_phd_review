{
 "cells": [
  {
   "cell_type": "markdown",
   "metadata": {},
   "source": [
    "Uncertainty"
   ]
  },
  {
   "cell_type": "code",
   "execution_count": 13,
   "metadata": {},
   "outputs": [],
   "source": [
    "import numpy as np\n",
    "\n",
    "\n",
    "import robustocs as rocs\n",
    "from robustocs import utils\n",
    "from robustocs import pedigree\n",
    "\n"
   ]
  },
  {
   "cell_type": "code",
   "execution_count": 4,
   "metadata": {},
   "outputs": [],
   "source": [
    "# load in the problem variables\n",
    "sigma, mubar, omega, n, _, _, _ = rocs.load_problem(\n",
    "    sigma_filename=\"data/A50.txt\",\n",
    "    mu_filename=\"data/EBV50.txt\",\n",
    "    omega_filename=\"data/S50.txt\",\n",
    "    issparse=True\n",
    ")\n"
   ]
  },
  {
   "cell_type": "code",
   "execution_count": 24,
   "metadata": {},
   "outputs": [],
   "source": [
    "kin = sigma/2\n",
    "\n",
    "sires = range(0, n, 2)\n",
    "dams = range(1, n, 2)\n",
    "lam = 0\n",
    "kap = 100"
   ]
  },
  {
   "cell_type": "code",
   "execution_count": 25,
   "metadata": {},
   "outputs": [],
   "source": [
    "# Max contributions definition\n",
    "\n",
    "# upper\n",
    "upper = np.zeros(n)\n",
    "upper[::2] = 0.5  \n",
    "upper[1::2] = 0.02 \n",
    "\n",
    "# lower\n",
    "lower = np.zeros(n)\n",
    "lower[::2] = 0.0  \n",
    "lower[1::2] = 0.02  "
   ]
  },
  {
   "cell_type": "code",
   "execution_count": 26,
   "metadata": {},
   "outputs": [
    {
     "name": "stdout",
     "output_type": "stream",
     "text": [
      "Running HiGHS 1.8.1 (git hash: 4a7f24a): Copyright (c) 2024 HiGHS under MIT licence terms\n",
      "Hessian has dimension 50 but no nonzeros, so is ignored\n"
     ]
    }
   ],
   "source": [
    "# \n",
    "w, z, obj = rocs.highs_robust_genetics(sigma, mubar, omega, sires, dams, lam=lam, kappa=kap, dimension=n, upper_bound=upper, lower_bound=lower)\n"
   ]
  },
  {
   "cell_type": "code",
   "execution_count": 27,
   "metadata": {},
   "outputs": [
    {
     "name": "stdout",
     "output_type": "stream",
     "text": [
      "Current genetic gain: 1.849\n",
      "Selected genetic gain: 1.864\n",
      "Delta G: 0 3\n"
     ]
    }
   ],
   "source": [
    "# Expected genetic gain\n",
    "\n",
    "# Current genetic gain\n",
    "\n",
    "w_1 = np.ones(n) / n\n",
    "genetic_gain_current = utils.expected_genetic_merit(w_1, mubar)\n",
    "\n",
    "# Selected genetic gain\n",
    "#print(w @ mubar) \n",
    "genetic_gain_sel = utils.expected_genetic_merit(w, mubar)\n",
    "\n",
    "# Delta G\n",
    "deltaG = genetic_gain_sel - genetic_gain_current\n",
    "\n",
    "print(\"Current genetic gain:\", round(genetic_gain_current, 3))\n",
    "print(\"Selected genetic gain:\", round(genetic_gain_sel, 3))\n",
    "print(\"Delta G:\", round(deltaG), 3)"
   ]
  },
  {
   "cell_type": "code",
   "execution_count": 28,
   "metadata": {},
   "outputs": [
    {
     "name": "stdout",
     "output_type": "stream",
     "text": [
      "[0.0170946  0.02       0.02678994 0.02       0.01518411 0.02\n",
      " 0.01666347 0.02       0.01091042 0.02       0.01615131 0.02\n",
      " 0.01161355 0.02       0.03258974 0.02       0.0219506  0.02\n",
      " 0.01319388 0.02       0.0225586  0.02       0.02335928 0.02\n",
      " 0.0164526  0.02       0.01652596 0.02       0.00829622 0.02\n",
      " 0.01068922 0.02       0.02438286 0.02       0.02156493 0.02\n",
      " 0.03288133 0.02       0.02996536 0.02       0.02456255 0.02\n",
      " 0.02312495 0.02       0.01422608 0.02       0.01894304 0.02\n",
      " 0.03032538 0.02      ]\n"
     ]
    }
   ],
   "source": [
    "print(w)"
   ]
  }
 ],
 "metadata": {
  "kernelspec": {
   "display_name": "rocs_env",
   "language": "python",
   "name": "python3"
  },
  "language_info": {
   "codemirror_mode": {
    "name": "ipython",
    "version": 3
   },
   "file_extension": ".py",
   "mimetype": "text/x-python",
   "name": "python",
   "nbconvert_exporter": "python",
   "pygments_lexer": "ipython3",
   "version": "3.10.13"
  }
 },
 "nbformat": 4,
 "nbformat_minor": 2
}
