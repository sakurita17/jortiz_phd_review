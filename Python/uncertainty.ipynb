{
 "cells": [
  {
   "cell_type": "markdown",
   "metadata": {},
   "source": [
    "Uncertainty"
   ]
  },
  {
   "cell_type": "code",
   "execution_count": 8,
   "metadata": {},
   "outputs": [],
   "source": [
    "import numpy as np\n",
    "import pandas as pd\n",
    "\n",
    "\n",
    "import robustocs as rocs\n",
    "from robustocs import utils\n",
    "from robustocs import pedigree\n",
    "\n"
   ]
  },
  {
   "cell_type": "code",
   "execution_count": 2,
   "metadata": {},
   "outputs": [],
   "source": [
    "# load in the problem variables\n",
    "sigma, mubar, omega, n, _, _, _ = rocs.load_problem(\n",
    "    sigma_filename=\"../data/A50.txt\",\n",
    "    mu_filename=\"../data/EBV50.txt\",\n",
    "    omega_filename=\"../data/S50.txt\",\n",
    "    issparse=True\n",
    ")\n"
   ]
  },
  {
   "cell_type": "code",
   "execution_count": 11,
   "metadata": {},
   "outputs": [],
   "source": [
    "kin = sigma/2\n",
    "\n",
    "sires = range(0, n, 2)\n",
    "dams = range(1, n, 2)\n",
    "lam = 0\n",
    "kap = 100"
   ]
  },
  {
   "cell_type": "code",
   "execution_count": 12,
   "metadata": {},
   "outputs": [],
   "source": [
    "# Max contributions definition\n",
    "\n",
    "# upper\n",
    "upper = np.zeros(n)\n",
    "upper[::2] = 0.5  \n",
    "upper[1::2] = 0.02 \n",
    "\n",
    "# lower\n",
    "lower = np.zeros(n)\n",
    "lower[::2] = 0.0  \n",
    "lower[1::2] = 0.02  "
   ]
  },
  {
   "cell_type": "code",
   "execution_count": 13,
   "metadata": {},
   "outputs": [
    {
     "name": "stdout",
     "output_type": "stream",
     "text": [
      "Running HiGHS 1.8.1 (git hash: 4a7f24a): Copyright (c) 2024 HiGHS under MIT licence terms\n",
      "Hessian has dimension 50 but no nonzeros, so is ignored\n"
     ]
    }
   ],
   "source": [
    "# \n",
    "w, z, obj = rocs.highs_robust_genetics(sigma, mubar, omega, sires, dams, lam=lam, kappa=kap, dimension=n, upper_bound=upper, lower_bound=lower)\n"
   ]
  },
  {
   "cell_type": "code",
   "execution_count": 15,
   "metadata": {},
   "outputs": [
    {
     "name": "stdout",
     "output_type": "stream",
     "text": [
      "Expected genetic gain: 1.8635800512880005\n",
      "Expected group coancestry: 0.08877838890695486\n",
      "Expected group uncertainty: 0.09214842458824989\n"
     ]
    }
   ],
   "source": [
    "# Statistics\n",
    "\n",
    "# Expected genetic gain\n",
    "genetic_gain_sel = utils.expected_genetic_merit(w, mubar)\n",
    "\n",
    "# Expected group coancestry\n",
    "group_coancestry_sel = utils.group_coancestry(w,sigma)\n",
    "\n",
    "# Expected grouo uncertainty\n",
    "group_uncertainty = z\n",
    "\n",
    "\n",
    "print(\"Expected genetic gain:\", genetic_gain_sel)\n",
    "print(\"Expected group coancestry:\", group_coancestry_sel)\n",
    "print(\"Expected group uncertainty:\", group_uncertainty)\n"
   ]
  },
  {
   "cell_type": "code",
   "execution_count": 28,
   "metadata": {},
   "outputs": [
    {
     "name": "stdout",
     "output_type": "stream",
     "text": [
      "[0.0170946  0.02       0.02678994 0.02       0.01518411 0.02\n",
      " 0.01666347 0.02       0.01091042 0.02       0.01615131 0.02\n",
      " 0.01161355 0.02       0.03258974 0.02       0.0219506  0.02\n",
      " 0.01319388 0.02       0.0225586  0.02       0.02335928 0.02\n",
      " 0.0164526  0.02       0.01652596 0.02       0.00829622 0.02\n",
      " 0.01068922 0.02       0.02438286 0.02       0.02156493 0.02\n",
      " 0.03288133 0.02       0.02996536 0.02       0.02456255 0.02\n",
      " 0.02312495 0.02       0.01422608 0.02       0.01894304 0.02\n",
      " 0.03032538 0.02      ]\n"
     ]
    }
   ],
   "source": [
    "print(w)"
   ]
  },
  {
   "cell_type": "code",
   "execution_count": 9,
   "metadata": {},
   "outputs": [
    {
     "name": "stderr",
     "output_type": "stream",
     "text": [
      "/var/folders/yh/0bk27b457hb862b_2wsrctcr0000gr/T/ipykernel_40665/1225328222.py:4: FutureWarning: The 'delim_whitespace' keyword in pd.read_csv is deprecated and will be removed in a future version. Use ``sep='\\s+'`` instead\n",
      "  df = pd.read_csv(file_path, delim_whitespace=True, header=None)\n"
     ]
    },
    {
     "data": {
      "text/html": [
       "<div>\n",
       "<style scoped>\n",
       "    .dataframe tbody tr th:only-of-type {\n",
       "        vertical-align: middle;\n",
       "    }\n",
       "\n",
       "    .dataframe tbody tr th {\n",
       "        vertical-align: top;\n",
       "    }\n",
       "\n",
       "    .dataframe thead th {\n",
       "        text-align: right;\n",
       "    }\n",
       "</style>\n",
       "<table border=\"1\" class=\"dataframe\">\n",
       "  <thead>\n",
       "    <tr style=\"text-align: right;\">\n",
       "      <th></th>\n",
       "      <th>0</th>\n",
       "      <th>1</th>\n",
       "    </tr>\n",
       "  </thead>\n",
       "  <tbody>\n",
       "    <tr>\n",
       "      <th>0</th>\n",
       "      <td>11951</td>\n",
       "      <td>M</td>\n",
       "    </tr>\n",
       "    <tr>\n",
       "      <th>1</th>\n",
       "      <td>11952</td>\n",
       "      <td>F</td>\n",
       "    </tr>\n",
       "    <tr>\n",
       "      <th>2</th>\n",
       "      <td>11953</td>\n",
       "      <td>M</td>\n",
       "    </tr>\n",
       "    <tr>\n",
       "      <th>3</th>\n",
       "      <td>11954</td>\n",
       "      <td>F</td>\n",
       "    </tr>\n",
       "    <tr>\n",
       "      <th>4</th>\n",
       "      <td>11955</td>\n",
       "      <td>M</td>\n",
       "    </tr>\n",
       "  </tbody>\n",
       "</table>\n",
       "</div>"
      ],
      "text/plain": [
       "       0  1\n",
       "0  11951  M\n",
       "1  11952  F\n",
       "2  11953  M\n",
       "3  11954  F\n",
       "4  11955  M"
      ]
     },
     "execution_count": 9,
     "metadata": {},
     "output_type": "execute_result"
    }
   ],
   "source": [
    "file_path = \"../data/SEX50.txt\"\n",
    "\n",
    "# Load the file while treating it as a text-based dataset\n",
    "df = pd.read_csv(file_path, delim_whitespace=True, header=None)\n",
    "\n",
    "df.head()"
   ]
  },
  {
   "cell_type": "code",
   "execution_count": 10,
   "metadata": {},
   "outputs": [
    {
     "name": "stdout",
     "output_type": "stream",
     "text": [
      "       0  1         w\n",
      "0  11951  M  0.017095\n",
      "1  11952  F  0.020000\n",
      "2  11953  M  0.026790\n",
      "3  11954  F  0.020000\n",
      "4  11955  M  0.015184\n"
     ]
    }
   ],
   "source": [
    "df['w'] = w\n",
    "print(df.head())"
   ]
  },
  {
   "cell_type": "code",
   "execution_count": null,
   "metadata": {},
   "outputs": [],
   "source": []
  }
 ],
 "metadata": {
  "kernelspec": {
   "display_name": "rocs_env",
   "language": "python",
   "name": "python3"
  },
  "language_info": {
   "codemirror_mode": {
    "name": "ipython",
    "version": 3
   },
   "file_extension": ".py",
   "mimetype": "text/x-python",
   "name": "python",
   "nbconvert_exporter": "python",
   "pygments_lexer": "ipython3",
   "version": "3.10.13"
  }
 },
 "nbformat": 4,
 "nbformat_minor": 2
}
