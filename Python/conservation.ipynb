{
 "cells": [
  {
   "cell_type": "code",
   "execution_count": null,
   "metadata": {},
   "outputs": [],
   "source": []
  },
  {
   "cell_type": "markdown",
   "metadata": {},
   "source": [
    "Truncation selection\n",
    "\n",
    "Truncation selection is known to be the most efficient form of directional selection (Efficiency xx),However, it usually maximized genetic gain with no or an implicit limitations of rates of inbreeding.  \n",
    "\n",
    "Thus, the total genetic merit of a selected group is:\n",
    "\n",
    "$f(x) = x'BV$\n",
    "\n",
    "Animals with highest BV have the highest chance to be selected as parents of the next generation"
   ]
  },
  {
   "cell_type": "code",
   "execution_count": 77,
   "metadata": {},
   "outputs": [],
   "source": [
    "import numpy as np\n",
    "import pandas as pd\n",
    "import urllib.request\n",
    "\n",
    "import robustocs as rocs\n",
    "from robustocs import utils\n",
    "from robustocs import pedigree\n"
   ]
  },
  {
   "cell_type": "code",
   "execution_count": 78,
   "metadata": {},
   "outputs": [
    {
     "name": "stdout",
     "output_type": "stream",
     "text": [
      "Downloaded A50.txt\n",
      "Downloaded EBV50.txt\n",
      "Downloaded S50.txt\n"
     ]
    }
   ],
   "source": [
    "base_url = \"https://raw.githubusercontent.com/Foggalong/RobustOCS/main/examples/50/\"\n",
    "\n",
    "files = [\"A50.txt\", \"EBV50.txt\", \"S50.txt\"]\n",
    "\n",
    "for file in files:\n",
    "    urllib.request.urlretrieve(base_url + file, file)\n",
    "    print(f\"Downloaded {file}\")"
   ]
  },
  {
   "cell_type": "code",
   "execution_count": null,
   "metadata": {},
   "outputs": [],
   "source": [
    "# load in the problem variables\n",
    "sigma, mubar, omega, n, _, _, _ = rocs.load_problem(\n",
    "    sigma_filename=\"data/A50.txt\",\n",
    "    mu_filename=\"data/EBV50.txt\",\n",
    "    omega_filename=\"data/S50.txt\",\n",
    "    issparse=True\n",
    ")\n"
   ]
  },
  {
   "cell_type": "code",
   "execution_count": null,
   "metadata": {},
   "outputs": [],
   "source": [
    "kin = sigma/2\n",
    "\n",
    "sires = range(0, n, 2)\n",
    "dams = range(1, n, 2)\n",
    "lam = 1001\n",
    "kap = 0"
   ]
  },
  {
   "cell_type": "code",
   "execution_count": 116,
   "metadata": {},
   "outputs": [],
   "source": [
    "# Max contributions definition\n",
    "\n",
    "# upper\n",
    "upper = np.zeros(n)\n",
    "upper[::2] = 0.5  \n",
    "upper[1::2] = 0.02 \n",
    "\n",
    "# lower\n",
    "lower = np.zeros(n)\n",
    "lower[::2] = 0.0  \n",
    "lower[1::2] = 0.02  "
   ]
  },
  {
   "cell_type": "code",
   "execution_count": 117,
   "metadata": {},
   "outputs": [
    {
     "name": "stdout",
     "output_type": "stream",
     "text": [
      "Running HiGHS 1.8.1 (git hash: 4a7f24a): Copyright (c) 2024 HiGHS under MIT licence terms\n",
      "WARNING: Ignored 1225 entries of Hessian in opposite triangle\n"
     ]
    }
   ],
   "source": [
    "# \n",
    "w, z, obj = rocs.highs_robust_genetics(sigma, mubar, omega, sires, dams, lam=lam, kappa=kap, dimension=n, upper_bound=upper, lower_bound=lower)\n"
   ]
  },
  {
   "cell_type": "code",
   "execution_count": 114,
   "metadata": {},
   "outputs": [
    {
     "name": "stdout",
     "output_type": "stream",
     "text": [
      "Current genetic gain: 1.849\n",
      "Selected genetic gain: 1.838\n",
      "Delta G: 0 3\n"
     ]
    }
   ],
   "source": [
    "# Expected genetic gain\n",
    "\n",
    "# Current genetic gain\n",
    "\n",
    "w_1 = np.ones(n) / n\n",
    "genetic_gain_current = utils.expected_genetic_merit(w_1, mubar)\n",
    "\n",
    "# Selected genetic gain\n",
    "#print(w @ mubar) \n",
    "genetic_gain_sel = utils.expected_genetic_merit(w, mubar)\n",
    "\n",
    "# Delta G\n",
    "deltaG = genetic_gain_sel - genetic_gain_current\n",
    "\n",
    "print(\"Current genetic gain:\", round(genetic_gain_current, 3))\n",
    "print(\"Selected genetic gain:\", round(genetic_gain_sel, 3))\n",
    "print(\"Delta G:\", round(deltaG), 3)\n"
   ]
  },
  {
   "cell_type": "code",
   "execution_count": 127,
   "metadata": {},
   "outputs": [
    {
     "name": "stdout",
     "output_type": "stream",
     "text": [
      "[0.01820063 0.02       0.01282786 0.02       0.01867144 0.02\n",
      " 0.02527957 0.02       0.01861088 0.02       0.03014859 0.02\n",
      " 0.02499895 0.02       0.02243919 0.02       0.01979384 0.02\n",
      " 0.02283209 0.02       0.02607942 0.02       0.02533729 0.02\n",
      " 0.01497926 0.02       0.01517603 0.02       0.01871586 0.02\n",
      " 0.02142135 0.02       0.01546296 0.02       0.02242755 0.02\n",
      " 0.01269396 0.02       0.02214504 0.02       0.02312674 0.02\n",
      " 0.02120171 0.02       0.01937765 0.02       0.00680164 0.02\n",
      " 0.0212505  0.02      ]\n"
     ]
    }
   ],
   "source": [
    "print(w)"
   ]
  },
  {
   "cell_type": "code",
   "execution_count": null,
   "metadata": {},
   "outputs": [],
   "source": []
  },
  {
   "cell_type": "code",
   "execution_count": 119,
   "metadata": {},
   "outputs": [
    {
     "name": "stdout",
     "output_type": "stream",
     "text": [
      "Group coancestry selected: 0 3\n"
     ]
    }
   ],
   "source": [
    "# Expected group coancestry\n",
    "\n",
    "# Current genetic gain\n",
    "\n",
    "w_1 = np.ones(n) / n\n",
    "group_coancestry_current = utils.group_coancestry(w_1, kin)\n",
    "\n",
    "# Selected group coancestry\n",
    "group_coancestry_sel = utils.group_coancestry(w, kin)\n",
    "\n",
    "print(\"Group coancestry selected:\", round(group_coancestry_sel), 3)\n"
   ]
  },
  {
   "cell_type": "code",
   "execution_count": null,
   "metadata": {},
   "outputs": [
    {
     "name": "stdout",
     "output_type": "stream",
     "text": [
      "[1.78070869 2.05758439 2.22870703 1.73222187 1.49445226 1.80081198\n",
      " 1.81205687 2.07929664 1.92682831 1.99036591 1.78565247 1.63887508\n",
      " 1.82558882 1.91996408 2.17041027 2.02239147 1.54482299 1.53617066\n",
      " 1.66860606 1.66956816 1.74702684 1.86817629 1.82203958 1.81771386\n",
      " 2.04977431 1.86687614 1.86070767 1.73687081 1.55685922 1.75423056\n",
      " 1.79655363 2.02226052 2.15591778 1.90572469 1.81893985 1.95198947\n",
      " 2.23900093 2.03335815 1.699658   1.79907575 1.77931319 2.04444981\n",
      " 1.74546003 1.79566584 1.98534421 1.55651842 1.95639182 1.973109\n",
      " 1.81209092 1.60610527]\n"
     ]
    }
   ],
   "source": [
    "# Realized genetic gain\n",
    "\n",
    "print(mubar)"
   ]
  }
 ],
 "metadata": {
  "kernelspec": {
   "display_name": "rocs_env",
   "language": "python",
   "name": "python3"
  },
  "language_info": {
   "codemirror_mode": {
    "name": "ipython",
    "version": 3
   },
   "file_extension": ".py",
   "mimetype": "text/x-python",
   "name": "python",
   "nbconvert_exporter": "python",
   "pygments_lexer": "ipython3",
   "version": "3.10.13"
  }
 },
 "nbformat": 4,
 "nbformat_minor": 2
}
