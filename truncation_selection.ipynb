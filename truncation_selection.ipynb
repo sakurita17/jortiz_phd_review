{
 "cells": [
  {
   "cell_type": "code",
   "execution_count": null,
   "metadata": {},
   "outputs": [],
   "source": []
  },
  {
   "cell_type": "markdown",
   "metadata": {},
   "source": [
    "Truncation selection\n",
    "\n",
    "Truncation selection is known to be the most efficient form of directional selection (Efficiency xx),However, it usually maximized genetic gain with no or an implicit limitations of rates of inbreeding.  \n",
    "\n",
    "Thus, the total genetic merit of a selected group is:\n",
    "\n",
    "$f(x) = x'BV$\n",
    "\n",
    "Animals with highest BV have the highest chance to be selected as parents of the next generation"
   ]
  },
  {
   "cell_type": "code",
   "execution_count": 18,
   "metadata": {},
   "outputs": [],
   "source": [
    "import numpy as np\n",
    "import pandas as pd\n",
    "import urllib.request\n",
    "\n",
    "import robustocs as rocs\n",
    "from robustocs import utils\n",
    "from robustocs import pedigree\n"
   ]
  },
  {
   "cell_type": "code",
   "execution_count": 4,
   "metadata": {},
   "outputs": [
    {
     "name": "stdout",
     "output_type": "stream",
     "text": [
      "Downloaded A50.txt\n",
      "Downloaded EBV50.txt\n",
      "Downloaded S50.txt\n"
     ]
    }
   ],
   "source": [
    "base_url = \"https://raw.githubusercontent.com/Foggalong/RobustOCS/main/examples/50/\"\n",
    "\n",
    "files = [\"A50.txt\", \"EBV50.txt\", \"S50.txt\"]\n",
    "\n",
    "for file in files:\n",
    "    urllib.request.urlretrieve(base_url + file, file)\n",
    "    print(f\"Downloaded {file}\")"
   ]
  },
  {
   "cell_type": "code",
   "execution_count": 8,
   "metadata": {},
   "outputs": [],
   "source": [
    "# load in the problem variables\n",
    "sigma, mubar, omega, n, _, _, _ = rocs.load_problem(\n",
    "    sigma_filename=\"A50.txt\",\n",
    "    mu_filename=\"EBV50.txt\",\n",
    "    omega_filename=\"S50.txt\",\n",
    "    issparse=True\n",
    ")\n",
    "\n",
    "sires = range(0, n, 2)\n",
    "dams = range(1, n, 2)\n",
    "lam = 0\n",
    "kap = 0\n"
   ]
  },
  {
   "cell_type": "code",
   "execution_count": 9,
   "metadata": {},
   "outputs": [],
   "source": [
    "# Max contributions definition\n",
    "\n",
    "# upper\n",
    "upper = np.zeros(n)\n",
    "upper[::2] = 0.5  \n",
    "upper[1::2] = 0.02 \n",
    "\n",
    "# lower\n",
    "lower = np.zeros(n)\n",
    "lower[::2] = 0.0  \n",
    "lower[1::2] = 0.02  "
   ]
  },
  {
   "cell_type": "code",
   "execution_count": 11,
   "metadata": {},
   "outputs": [
    {
     "name": "stdout",
     "output_type": "stream",
     "text": [
      "Running HiGHS 1.8.1 (git hash: 4a7f24a): Copyright (c) 2024 HiGHS under MIT licence terms\n",
      "Hessian has dimension 50 but no nonzeros, so is ignored\n"
     ]
    }
   ],
   "source": [
    "# \n",
    "w, z, obj = rocs.highs_robust_genetics(sigma, mubar, omega, sires, dams, lam=lam, kappa=kap, dimension=n, upper_bound=upper, lower_bound=lower)\n"
   ]
  },
  {
   "cell_type": "code",
   "execution_count": null,
   "metadata": {},
   "outputs": [
    {
     "name": "stdout",
     "output_type": "stream",
     "text": [
      "2.043087959504886\n",
      "2.043087959504886\n"
     ]
    }
   ],
   "source": [
    "# Expected genetic gain\n",
    "print(w @ mubar) \n",
    "print(utils.expected_genetic_merit(w, mubar))"
   ]
  },
  {
   "cell_type": "code",
   "execution_count": null,
   "metadata": {},
   "outputs": [
    {
     "name": "stdout",
     "output_type": "stream",
     "text": [
      "[1.78070869 2.05758439 2.22870703 1.73222187 1.49445226 1.80081198\n",
      " 1.81205687 2.07929664 1.92682831 1.99036591 1.78565247 1.63887508\n",
      " 1.82558882 1.91996408 2.17041027 2.02239147 1.54482299 1.53617066\n",
      " 1.66860606 1.66956816 1.74702684 1.86817629 1.82203958 1.81771386\n",
      " 2.04977431 1.86687614 1.86070767 1.73687081 1.55685922 1.75423056\n",
      " 1.79655363 2.02226052 2.15591778 1.90572469 1.81893985 1.95198947\n",
      " 2.23900093 2.03335815 1.699658   1.79907575 1.77931319 2.04444981\n",
      " 1.74546003 1.79566584 1.98534421 1.55651842 1.95639182 1.973109\n",
      " 1.81209092 1.60610527]\n"
     ]
    }
   ],
   "source": [
    "# Realized genetic gain\n",
    "\n",
    "print(mubar)"
   ]
  }
 ],
 "metadata": {
  "kernelspec": {
   "display_name": "rocs_env",
   "language": "python",
   "name": "python3"
  },
  "language_info": {
   "codemirror_mode": {
    "name": "ipython",
    "version": 3
   },
   "file_extension": ".py",
   "mimetype": "text/x-python",
   "name": "python",
   "nbconvert_exporter": "python",
   "pygments_lexer": "ipython3",
   "version": "3.10.13"
  }
 },
 "nbformat": 4,
 "nbformat_minor": 2
}
